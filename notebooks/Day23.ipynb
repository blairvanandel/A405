{
 "cells": [
  {
   "cell_type": "code",
   "execution_count": 8,
   "metadata": {
    "collapsed": false
   },
   "outputs": [
    {
     "name": "stdout",
     "output_type": "stream",
     "text": [
      "a term of radius of 1e-6m = 0.0011279787804631821\n",
      "b term of radius of 1e-6m = 9.766326053366306e-06\n",
      "ab term of radius 1e-6m   = 1.1016208551281928e-08\n",
      "\n",
      "a term of radius of 1e-7m = 0.01127978780463182\n",
      "b term of radius of 1e-7m = 0.009766326053366305\n",
      "ab term of radius 1e-7m   = 0.00011016208551281927\n"
     ]
    }
   ],
   "source": [
    "from a405thermo.constants import constants as c\n",
    "Tinit=c.Tc + 15 #Temperature K\n",
    "Sinit=0.9 #e/es\n",
    "Ms=132 #ammonium sulphae kg/Kmole\n",
    "Mw=18. #water kg/Kmole\n",
    "Sigma=0.075  #N/m\n",
    "vanHoff=3. #van hoff for ammonium bisulphate\n",
    "#calculate kohler coefficients:\n",
    "a=(2.*Sigma)/(c.Rv*Tinit*c.rhol)  #curvature term\n",
    "mass_aero = 1.e-19  #kg\n",
    "b=(vanHoff*Mw)/((4./3.)*np.pi*c.rhol*Ms)*mass_aero   #solution term\n",
    "\n",
    "r1= 1e-6 #m\n",
    "r2= 1e-7\n",
    "\n",
    "atermr1 = a/r1\n",
    "btermr1 = b/(r1**3)\n",
    "atermr2 = a/r2\n",
    "btermr2 = b/(r2**3)\n",
    "abtermr1 = a*b/(r1**4)\n",
    "abtermr2 = a*b/(r2**4)\n",
    "\n",
    "print('a term of radius of 1e-6m =', atermr1)\n",
    "print('b term of radius of 1e-6m =', btermr1)\n",
    "print('ab term of radius 1e-6m   =', abtermr1)\n",
    "print('')\n",
    "print('a term of radius of 1e-7m =', atermr2)\n",
    "print('b term of radius of 1e-7m =', btermr2)\n",
    "print('ab term of radius 1e-7m   =', abtermr2)"
   ]
  },
  {
   "cell_type": "markdown",
   "metadata": {},
   "source": [
    "For both radius we drop the ab term because it is multitudes smaller.\n",
    "\n",
    "The larger the droplet the more significant the b term becomes and the the smaller the droplet the more significant the a term becomes.\n",
    "\n"
   ]
  }
 ],
 "metadata": {
  "kernelspec": {
   "display_name": "Python 3",
   "language": "python",
   "name": "python3"
  },
  "language_info": {
   "codemirror_mode": {
    "name": "ipython",
    "version": 3
   },
   "file_extension": ".py",
   "mimetype": "text/x-python",
   "name": "python",
   "nbconvert_exporter": "python",
   "pygments_lexer": "ipython3",
   "version": "3.5.1"
  }
 },
 "nbformat": 4,
 "nbformat_minor": 0
}

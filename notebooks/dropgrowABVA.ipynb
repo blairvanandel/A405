{
 "cells": [
  {
   "cell_type": "markdown",
   "metadata": {},
   "source": [
    "### This notebook uses some new library functions in the a405dropgrow package to find equilibrium drop sizes"
   ]
  },
  {
   "cell_type": "code",
   "execution_count": 28,
   "metadata": {
    "collapsed": false
   },
   "outputs": [],
   "source": [
    "import a405dropgrow.aerolib\n",
    "from importlib import reload\n",
    "reload(a405dropgrow.aerolib)\n",
    "#\n",
    "# new library for aerosol functions\n",
    "#\n",
    "from a405dropgrow.aerolib import lognormal,create_koehler,find_koehler_coeffs\n",
    "import numpy as np\n",
    "import a405utils.helper_funs\n",
    "reload(a405utils.helper_funs)\n",
    "from a405utils.helper_funs import make_tuple, find_centers\n",
    "from a405thermo.rootfinder import find_interval, fzero\n",
    "import ruamel.yaml as ry  #need to pip install ruamel.yaml\n",
    "import pprint\n",
    "pp = pprint.PrettyPrinter(indent=4)\n",
    "#\n",
    "# find the path to the data folder.  We know it's\n",
    "# at the same level as a405utils, so construct\n",
    "# the path relative to the location of the a405utils folder\n",
    "#\n",
    "from pathlib import Path\n",
    "util_dir, = a405utils.__path__._path\n",
    "data_dir = Path(util_dir).joinpath('../data')"
   ]
  },
  {
   "cell_type": "markdown",
   "metadata": {},
   "source": [
    "### Read in the inital conditions\n",
    "\n",
    "Use the [yaml](https://en.wikipedia.org/wiki/YAML) file format to specify\n",
    "aerosol properties and initial conditions as a nested dictionary with\n",
    "comments"
   ]
  },
  {
   "cell_type": "code",
   "execution_count": 29,
   "metadata": {
    "collapsed": false
   },
   "outputs": [
    {
     "name": "stdout",
     "output_type": "stream",
     "text": [
      "CommentedOrderedMap([   (   'initial_conditions',\n",
      "                            CommentedOrderedMap([   ('Tinit', 280.0),\n",
      "                                                    ('Zinit', 1000.0),\n",
      "                                                    ('Pinit', 90000.0),\n",
      "                                                    ('Sinit', 0.995),\n",
      "                                                    ('wvel', 0.5)])),\n",
      "                        (   'aerosol',\n",
      "                            CommentedOrderedMap([   ('Ms', 114),\n",
      "                                                    ('Mw', 18.0),\n",
      "                                                    ('Sigma', 0.075),\n",
      "                                                    ('vanHoff', 2.0),\n",
      "                                                    ('rhoaero', 1775),\n",
      "                                                    ('themean', 2e-17),\n",
      "                                                    ('sd', 1.7),\n",
      "                                                    ('totmass', 1.5e-09)]))])\n"
     ]
    }
   ],
   "source": [
    "yaml_file = data_dir.joinpath('dropgrow.yaml')\n",
    "with yaml_file.open('r') as f:\n",
    "    input_dict=ry.load(f,Loader=ry.RoundTripLoader)\n",
    "pp.pprint(input_dict)"
   ]
  },
  {
   "cell_type": "markdown",
   "metadata": {},
   "source": [
    "### Calculate the lognormal aerosol mass distribution and get the number concentration in each of 30 bins\n",
    "\n",
    "(code borrowed from aero.ipynb)"
   ]
  },
  {
   "cell_type": "code",
   "execution_count": 30,
   "metadata": {
    "collapsed": true
   },
   "outputs": [],
   "source": [
    "mass_vals = np.linspace(-20,-16,30)\n",
    "mass_vals = 10**mass_vals\n",
    "mu=input_dict['aerosol']['themean']\n",
    "sigma = input_dict['aerosol']['sd']\n",
    "totmass = input_dict['aerosol']['totmass']\n",
    "mdist = totmass*lognormal(mass_vals,np.log(mu),np.log(sigma))\n",
    "mdist = find_centers(mdist)*np.diff(mass_vals)\n",
    "center_mass = find_centers(mass_vals)\n",
    "ndist = mdist/center_mass"
   ]
  },
  {
   "cell_type": "markdown",
   "metadata": {},
   "source": [
    "### Find the equilibrium radius for each of the 30 aerosol masses\n",
    "\n",
    "(code borrowed from koehler.ipynb)"
   ]
  },
  {
   "cell_type": "markdown",
   "metadata": {},
   "source": [
    "### Python note -- using function factories (\"closures\")\n",
    "\n",
    "A closure is a function object that remembers values in its  \"enclosing scope\" \n",
    "(see e.g [this article](http://www.shutupandship.com/2012/01/python-closures-explained.html)).  For example, instead of\n",
    "writing:\n",
    "\n",
    "```python\n",
    "my_string = \"{:8.3g}\".format(value)\n",
    "```\n",
    "    \n",
    "every time we wanted to format a floating point number, we could do something like this:"
   ]
  },
  {
   "cell_type": "code",
   "execution_count": 31,
   "metadata": {
    "collapsed": false
   },
   "outputs": [
    {
     "name": "stdout",
     "output_type": "stream",
     "text": [
      "debugging 10 1.55e-23\n"
     ]
    }
   ],
   "source": [
    "def make_format(format_string=\"{:8.3g}\"):\n",
    "    \"\"\"\n",
    "    returns a function that formats with format_string\n",
    "    \"\"\"\n",
    "    def inner_fun(value):\n",
    "        return format_string.format(value)\n",
    "    return inner_fun\n",
    "\n",
    "#Now get closures from make_format and use it:\n",
    "\n",
    "g = make_format()\n",
    "info = make_format(format_string=\"debugging {}\")\n",
    "\n",
    "a=10\n",
    "b=1.546e-23\n",
    "print(info(a), g(b))\n"
   ]
  },
  {
   "cell_type": "markdown",
   "metadata": {},
   "source": [
    "### Calculating the equilibrium size distribution for unactivated aerosols\n",
    "\n",
    "Below we use "
   ]
  },
  {
   "cell_type": "code",
   "execution_count": 32,
   "metadata": {
    "collapsed": false
   },
   "outputs": [
    {
     "name": "stdout",
     "output_type": "stream",
     "text": [
      "for aerosol with mass = 1e-18 kg, SScrit,rcrit are  0.00175,    0.441 microns\n"
     ]
    }
   ],
   "source": [
    "aero=make_tuple(input_dict['aerosol'])\n",
    "parcel=make_tuple(input_dict['initial_conditions'])\n",
    "\n",
    "a, b = find_koehler_coeffs(aero,parcel)\n",
    "\n",
    "#\n",
    "# sanity check\n",
    "#\n",
    "m=1.e-18\n",
    "Scrit=(4.*a**3./(27.*b*m))**0.5;\n",
    "rcrit = (3.*m*b/a)**0.5\n",
    "print((\"for aerosol with mass = {} kg, \"\n",
    "       \"SScrit,rcrit are {:8.3g}, {:8.3g} microns\")\n",
    "        .format(m,Scrit,rcrit*1.e6))\n"
   ]
  },
  {
   "cell_type": "code",
   "execution_count": 41,
   "metadata": {
    "collapsed": false
   },
   "outputs": [],
   "source": [
    "koehler_fun = create_koehler(aero,parcel)\n",
    "\n",
    "def find_diff(r,S_target,m):\n",
    "    \"\"\"\n",
    "    zero function for rootfinder\n",
    "    \"\"\"\n",
    "    return S_target - koehler_fun(r,m)\n",
    "\n",
    "S_target = parcel.Sinit\n",
    "r_start = 0.1e-6\n",
    "\n",
    "vanhoff = input_dict['aerosol']['vanHoff']\n",
    "Ms = input_dict['aerosol']['Ms']\n",
    "Mw = input_dict['aerosol']['Mw']\n",
    "density = input_dict['aerosol']['rhoaero']\n",
    "\n",
    "nslist = []\n",
    "nwlist = []\n",
    "nwexlist = []\n",
    "initial_radius = []\n",
    "for mass in center_mass:\n",
    "    brackets = np.array(find_interval(find_diff,r_start,S_target,mass))\n",
    "    left_bracket, right_bracket = brackets*1.e6  #get brackets in microns for printing\n",
    "    equil_rad = fzero(find_diff,brackets,S_target,mass)\n",
    "    \n",
    "    Scrit=(4.*a**3./(27.*b*mass))**0.5\n",
    "    \n",
    "    initial_radius.append(equil_rad)\n",
    "    \"\"\"\"    \n",
    "    print(('mass = {mass:6.3g} kg\\n'\n",
    "           'left bracket = {left_bracket:8.3e} microns\\n'\n",
    "           'right bracket={right_bracket:8.3e} microns\\n'\n",
    "           'critical supersaturation: {Scrit:6.3g}')\n",
    "           .format_map(locals()))\n",
    "    print('equlibrium radius at S={} is {:5.3f} microns\\n'.format(S_target,equil_rad*1.e6))\n",
    "   \"\"\"\n",
    "\n",
    "    nslist.append((mass*vanhoff)/(Ms))\n",
    "    nwlist.append((4/3)*np.pi*((equil_rad)**3)*density/Mw)\n",
    "    #nwexlist.append((((4/3)*np.pi*((equil_rad)**3))*density/Mw) - (Ms/density))\n",
    "    nwexlist.append((((4/3)*np.pi*((equil_rad)**3))-(mass/density))*density/Mw)\n",
    "\n",
    "\n",
    "\n"
   ]
  },
  {
   "cell_type": "code",
   "execution_count": 47,
   "metadata": {
    "collapsed": false
   },
   "outputs": [
    {
     "data": {
      "text/plain": [
       "<matplotlib.legend.Legend at 0x114cd4f60>"
      ]
     },
     "execution_count": 47,
     "metadata": {},
     "output_type": "execute_result"
    },
    {
     "data": {
      "image/png": "[encoded data removed]",
      "text/plain": [
       "<matplotlib.figure.Figure at 0x114686f28>"
      ]
     },
     "metadata": {},
     "output_type": "display_data"
    }
   ],
   "source": [
    "%matplotlib inline\n",
    "import matplotlib\n",
    "matplotlib.style.use('ggplot')\n",
    "\n",
    "nsnw = (np.array(nslist)/np.array(nwlist))\n",
    "nsnwex =(np.array(nslist)/np.array(nwexlist))\n",
    "initial_radius_array = np.array(initial_radius)*1.e6\n",
    "\n",
    "fig,ax = plt.subplots(1,1)\n",
    "ax.plot(initial_radius_array, nsnw, color='b',label='ns/nw')\n",
    "ax.plot(initial_radius_array, nsnwex, color='r', label='ns/nw exact')\n",
    "ax.set(ylabel='radius (micron)', xlabel='ns/nw', title='ns/nw as a funtion of equilibrium radius')\n",
    "ax.legend(loc='best')"
   ]
  },
  {
   "cell_type": "code",
   "execution_count": null,
   "metadata": {
    "collapsed": true
   },
   "outputs": [],
   "source": []
  }
 ],
 "metadata": {
  "kernelspec": {
   "display_name": "Python 3",
   "language": "python",
   "name": "python3"
  },
  "language_info": {
   "codemirror_mode": {
    "name": "ipython",
    "version": 3
   },
   "file_extension": ".py",
   "mimetype": "text/x-python",
   "name": "python",
   "nbconvert_exporter": "python",
   "pygments_lexer": "ipython3",
   "version": "3.5.1"
  }
 },
 "nbformat": 4,
 "nbformat_minor": 0
}
